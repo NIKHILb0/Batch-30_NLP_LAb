{
  "nbformat": 4,
  "nbformat_minor": 0,
  "metadata": {
    "colab": {
      "provenance": []
    },
    "kernelspec": {
      "name": "python3",
      "display_name": "Python 3"
    },
    "language_info": {
      "name": "python"
    }
  },
  "cells": [
    {
      "cell_type": "markdown",
      "source": [
        "#Lab-05 ------------6/09/24"
      ],
      "metadata": {
        "id": "OHtYme9OfRVO"
      }
    },
    {
      "cell_type": "markdown",
      "source": [
        "**2303A51LB0**"
      ],
      "metadata": {
        "id": "N-ZkNE2Sn5vp"
      }
    },
    {
      "cell_type": "markdown",
      "source": [
        "**1.Implement a Hidden Markov Model (HMM) for weather forecasting, taking scenario where we have hidden weather states (e.g., \"Sunny\" and \"Rainy\") and observable events (e.g., \"Dry\", \"Damp\", \"Wet\"). The goal is to predict the sequence of weather states based on the observations.**"
      ],
      "metadata": {
        "id": "4_i-vbLVn5m6"
      }
    },
    {
      "cell_type": "markdown",
      "source": [
        "**Problem Setup\n",
        "States (S): Hidden states representing the weather (e.g., \"Sunny\", \"Rainy\").\n",
        "Observations (O): Observable events that we can measure (e.g., \"Dry\", \"Damp\", \"Wet\").**\n",
        "\n",
        "\n",
        "**Transition Probabilities (A): The probability of transitioning from one weather state to another.**\n",
        "\n",
        "**Emission Probabilities (B): The probability of observing a certain event given the weather state.**\n",
        "\n",
        "\n",
        "**Initial Probabilities (π): The probability distribution over the initial states.**"
      ],
      "metadata": {
        "id": "NeYuHpqbopoD"
      }
    },
    {
      "cell_type": "code",
      "source": [
        "!pip install hmmlearn\n",
        "import numpy as np\n",
        "from hmmlearn import hmm\n",
        "\n",
        "# States and observations\n",
        "states = [\"Sunny\", \"Rainy\"]\n",
        "n_states = len(states)\n",
        "observations = [\"Dry\", \"Damp\", \"Wet\"]\n",
        "n_observations = len(observations)\n",
        "\n",
        "\n",
        "# Transition probabilities (A)\n",
        "transition_prob = np.array([\n",
        "    [0.7, 0.3],  # Sunny -> Sunny, Sunny -> Rainy\n",
        "    [0.4, 0.6]   # Rainy -> Sunny, Rainy -> Rainy\n",
        "])\n",
        "\n",
        "\n",
        "# Emission probabilities (B)\n",
        "emission_prob = np.array ([\n",
        "    [0.8, 0.15, 0.05],  # Sunny -> Dry, Damp, Wet\n",
        "    [0.1, 0.35, 0.55]   # Rainy -> Dry, Damp, Wet\n",
        "    ])\n",
        "\n",
        "\n",
        "# Initial probabilities (π)\n",
        "start_prob = np.array([0.6, 0.4])  # Sunny, Rainy\n"
      ],
      "metadata": {
        "colab": {
          "base_uri": "https://localhost:8080/"
        },
        "id": "Jmd4t3mmfO9_",
        "outputId": "02098dfc-471d-42ee-ccf7-f0ef91641c6d"
      },
      "execution_count": null,
      "outputs": [
        {
          "output_type": "stream",
          "name": "stdout",
          "text": [
            "Collecting hmmlearn\n",
            "  Downloading hmmlearn-0.3.2-cp310-cp310-manylinux_2_17_x86_64.manylinux2014_x86_64.whl.metadata (2.9 kB)\n",
            "Requirement already satisfied: numpy>=1.10 in /usr/local/lib/python3.10/dist-packages (from hmmlearn) (1.26.4)\n",
            "Requirement already satisfied: scikit-learn!=0.22.0,>=0.16 in /usr/local/lib/python3.10/dist-packages (from hmmlearn) (1.3.2)\n",
            "Requirement already satisfied: scipy>=0.19 in /usr/local/lib/python3.10/dist-packages (from hmmlearn) (1.13.1)\n",
            "Requirement already satisfied: joblib>=1.1.1 in /usr/local/lib/python3.10/dist-packages (from scikit-learn!=0.22.0,>=0.16->hmmlearn) (1.4.2)\n",
            "Requirement already satisfied: threadpoolctl>=2.0.0 in /usr/local/lib/python3.10/dist-packages (from scikit-learn!=0.22.0,>=0.16->hmmlearn) (3.5.0)\n",
            "Downloading hmmlearn-0.3.2-cp310-cp310-manylinux_2_17_x86_64.manylinux2014_x86_64.whl (161 kB)\n",
            "\u001b[2K   \u001b[90m━━━━━━━━━━━━━━━━━━━━━━━━━━━━━━━━━━━━━━━━\u001b[0m \u001b[32m161.1/161.1 kB\u001b[0m \u001b[31m3.0 MB/s\u001b[0m eta \u001b[36m0:00:00\u001b[0m\n",
            "\u001b[?25hInstalling collected packages: hmmlearn\n",
            "Successfully installed hmmlearn-0.3.2\n"
          ]
        }
      ]
    },
    {
      "cell_type": "markdown",
      "source": [
        "**2.Take different transition and emission probabilities or observation sequences on above problem and see how the model's predictions change.**"
      ],
      "metadata": {
        "id": "a7CIq-xno5vM"
      }
    },
    {
      "cell_type": "code",
      "source": [
        "# Create HMM model\n",
        "model = hmm.MultinomialHMM(n_components=n_states)\n",
        "model.startprob_ = start_prob\n",
        "model.transmat_ = transition_prob\n",
        "model.emissionprob_ = emission_prob\n",
        "\n",
        "# Define the sequence of observations: 0 -> Dry, 1 -> Damp, 2 -> Wet\n",
        "# Reshape the sequence for the model (n_samples, 1)\n",
        "observation_sequence = np.array([0, 1, 2, 0, 1]).reshape(-1, 1)  # Example observation sequence\n",
        "\n",
        "\n",
        "\n",
        "# Predict the hidden states based on the observation sequence using the Viterbi algorithm\n",
        "#logprob, hidden_states = model.decode(observation_sequence, algorithm=\"viterbi\")\n",
        "print(\"Observation sequence:\", [observations[i[0]] for i in observation_sequence])\n",
        "#print(\"Predicted hidden states:\", [states[i] for i in hidden_states])\n",
        "\n",
        "\n",
        "\n",
        "# Change the observation sequence and see how the model's predictions change\n",
        "new_observation_sequence = np.array([2, 2, 1, 0]).reshape(-1, 1)  # Example: Wet -> Wet -> Damp -> Dry\n",
        "\n",
        "\n",
        "#logprob_new, hidden_states_new = model.decode(new_observation_sequence, algorithm=\"viterbi\")\n",
        "print(\"New Observation sequence:\", [observations[i[0]] for i in new_observation_sequence])"
      ],
      "metadata": {
        "colab": {
          "base_uri": "https://localhost:8080/"
        },
        "id": "Ph6eNLKXiuUc",
        "outputId": "a7ec4d73-9fd2-49d9-f74e-4b6b7654b662"
      },
      "execution_count": null,
      "outputs": [
        {
          "output_type": "stream",
          "name": "stderr",
          "text": [
            "WARNING:hmmlearn.hmm:MultinomialHMM has undergone major changes. The previous version was implementing a CategoricalHMM (a special case of MultinomialHMM). This new implementation follows the standard definition for a Multinomial distribution (e.g. as in https://en.wikipedia.org/wiki/Multinomial_distribution). See these issues for details:\n",
            "https://github.com/hmmlearn/hmmlearn/issues/335\n",
            "https://github.com/hmmlearn/hmmlearn/issues/340\n"
          ]
        },
        {
          "output_type": "stream",
          "name": "stdout",
          "text": [
            "Observation sequence: ['Dry', 'Damp', 'Wet', 'Dry', 'Damp']\n",
            "New Observation sequence: ['Wet', 'Wet', 'Damp', 'Dry']\n"
          ]
        }
      ]
    },
    {
      "cell_type": "code",
      "source": [],
      "metadata": {
        "id": "8kffZD6PjBH2"
      },
      "execution_count": null,
      "outputs": []
    },
    {
      "cell_type": "markdown",
      "source": [],
      "metadata": {
        "id": "S2_hZ-TmfFSE"
      }
    }
  ]
}